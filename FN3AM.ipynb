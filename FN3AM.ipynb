{
 "cells": [
  {
   "cell_type": "code",
   "execution_count": null,
   "id": "5ad60f53",
   "metadata": {},
   "outputs": [],
   "source": [
    "def fun(str1):\n",
    "  upper_case = 0\n",
    "  lower_case = 0\n",
    "  for i in str1:\n",
    "    if i.isupper():\n",
    "      upper_case += 1 \n",
    "    elif i.islower():\n",
    "      lower_case += 1\n",
    "    else:\n",
    "      pass\n",
    "  print(\"Original string:\", str1)\n",
    "  print(\"Number of lowercase string:\", lower_case)\n",
    "  print(\"Number of uppercase string:\", upper_case)\n",
    "fun(\"The quick Brown Fox\")"
   ]
  },
  {
   "cell_type": "code",
   "execution_count": null,
   "id": "483750cf",
   "metadata": {},
   "outputs": [],
   "source": []
  }
 ],
 "metadata": {
  "kernelspec": {
   "display_name": "Python 3 (ipykernel)",
   "language": "python",
   "name": "python3"
  }
 },
 "nbformat": 4,
 "nbformat_minor": 5
}
